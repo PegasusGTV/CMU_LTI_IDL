{
 "cells": [
  {
   "cell_type": "code",
   "execution_count": 1,
   "metadata": {
    "_cell_guid": "b1076dfc-b9ad-4769-8c92-a6c4dae69d19",
    "_uuid": "8f2839f25d086af736a60e9eeb907d3b93b6e0e5",
    "execution": {
     "iopub.execute_input": "2025-02-06T02:08:19.122509Z",
     "iopub.status.busy": "2025-02-06T02:08:19.122142Z",
     "iopub.status.idle": "2025-02-06T02:08:34.126520Z",
     "shell.execute_reply": "2025-02-06T02:08:34.125601Z",
     "shell.execute_reply.started": "2025-02-06T02:08:19.122474Z"
    },
    "trusted": true
   },
   "outputs": [
    {
     "name": "stdout",
     "output_type": "stream",
     "text": [
      "Device:  cuda\n"
     ]
    }
   ],
   "source": [
    "!pip install torchsummary --quiet\n",
    "!pip install torchaudio --quiet\n",
    "import torch\n",
    "import torch.nn as nn\n",
    "import numpy as np\n",
    "from torchsummary import summary\n",
    "import sklearn\n",
    "import gc\n",
    "import zipfile\n",
    "import bisect\n",
    "import pandas as pd\n",
    "from tqdm.auto import tqdm\n",
    "import os\n",
    "import datetime\n",
    "import wandb\n",
    "import yaml\n",
    "import torchaudio.transforms as tat\n",
    "import torchaudio\n",
    "device = 'cuda' if torch.cuda.is_available() else 'cpu'\n",
    "print(\"Device: \", device)\n",
    "\n",
    "\n",
    "### PHONEME LIST\n",
    "PHONEMES = [\n",
    "            '[SIL]',   'AA',    'AE',    'AH',    'AO',    'AW',    'AY',\n",
    "            'B',     'CH',    'D',     'DH',    'EH',    'ER',    'EY',\n",
    "            'F',     'G',     'HH',    'IH',    'IY',    'JH',    'K',\n",
    "            'L',     'M',     'N',     'NG',    'OW',    'OY',    'P',\n",
    "            'R',     'S',     'SH',    'T',     'TH',    'UH',    'UW',\n",
    "            'V',     'W',     'Y',     'Z',     'ZH',    '[SOS]', '[EOS]']\n",
    "\n",
    "\n",
    "config = {\n",
    "    'Name': 'Gopal', # Write your name here\n",
    "    'subset': 1.0, # Subset of dataset to use (1.0 == 100% of data)\n",
    "    'context': 30,\n",
    "    'archetype': 'diamond', # Default Values: pyramid, diamond, inverse-pyramid,cylinder\n",
    "    'activations': 'GELU',\n",
    "    'learning_rate': 0.001,\n",
    "    'dropout': 0.25,\n",
    "    # 'dropout': 0.05,\n",
    "    'optimizers': 'SGD',\n",
    "    'scheduler': 'ReduceLROnPlateau',\n",
    "    'epochs': 30,\n",
    "    'batch_size': 2048,\n",
    "    'weight_decay': 0.03,\n",
    "    # 'weight_initialization': None, # e.g kaiming_normal, kaiming_uniform, uniform, xavier_normal or xavier_uniform\n",
    "    'weight_initialization' : \"kaiming_normal\",\n",
    "    'augmentations': 'Both', # Options: [\"FreqMask\", \"TimeMask\", \"Both\", null]\n",
    "    'freq_mask_param': 4,\n",
    "    'time_mask_param': 8\n",
    " }"
   ]
  },
  {
   "cell_type": "code",
   "execution_count": 2,
   "metadata": {
    "execution": {
     "iopub.execute_input": "2025-02-06T02:08:36.930349Z",
     "iopub.status.busy": "2025-02-06T02:08:36.930000Z",
     "iopub.status.idle": "2025-02-06T02:08:40.318404Z",
     "shell.execute_reply": "2025-02-06T02:08:40.317258Z",
     "shell.execute_reply.started": "2025-02-06T02:08:36.930315Z"
    },
    "trusted": true
   },
   "outputs": [
    {
     "name": "stdout",
     "output_type": "stream",
     "text": [
      "Collecting kaggle==1.6.17\n",
      "  Downloading kaggle-1.6.17.tar.gz (82 kB)\n",
      "\u001b[2K     \u001b[90m━━━━━━━━━━━━━━━━━━━━━━━━━━━━━━━━━━━━━━━━\u001b[0m \u001b[32m82.7/82.7 kB\u001b[0m \u001b[31m4.4 MB/s\u001b[0m eta \u001b[36m0:00:00\u001b[0m\n",
      "\u001b[?25h  Preparing metadata (setup.py) ... \u001b[?25l\u001b[?25hdone\n",
      "Building wheels for collected packages: kaggle\n",
      "  Building wheel for kaggle (setup.py) ... \u001b[?25l\u001b[?25hdone\n",
      "  Created wheel for kaggle: filename=kaggle-1.6.17-py3-none-any.whl size=105786 sha256=8e79e4e470d5fa0e17ebe0a4377e9cdcc7941fe3f89242bc9704f94fce28af9c\n",
      "  Stored in directory: /root/.cache/pip/wheels/9f/af/22/bf406f913dc7506a485e60dce8143741abd0a92a19337d83a3\n",
      "Successfully built kaggle\n",
      "Installing collected packages: kaggle\n",
      "  Attempting uninstall: kaggle\n",
      "    Found existing installation: kaggle 1.6.17\n",
      "    Uninstalling kaggle-1.6.17:\n",
      "      Successfully uninstalled kaggle-1.6.17\n",
      "Successfully installed kaggle-1.6.17\n"
     ]
    }
   ],
   "source": [
    "!pip install --upgrade kaggle==1.6.17 --force-reinstall --no-deps\n",
    "!mkdir /root/.kaggle\n",
    "\n",
    "with open(\"/root/.kaggle/kaggle.json\", \"w+\") as f:\n",
    "    # Put your kaggle username & key here\n",
    "    f.write('{\"username\":\"gopalvenki\",\"key\":\"3c76b5ea50eda8695b1fe0388683bb09\"}')\n",
    "\n",
    "!chmod 600 /root/.kaggle/kaggle.json"
   ]
  },
  {
   "cell_type": "code",
   "execution_count": 3,
   "metadata": {
    "execution": {
     "iopub.execute_input": "2025-02-06T02:08:40.320048Z",
     "iopub.status.busy": "2025-02-06T02:08:40.319804Z",
     "iopub.status.idle": "2025-02-06T02:11:11.156719Z",
     "shell.execute_reply": "2025-02-06T02:11:11.155564Z",
     "shell.execute_reply.started": "2025-02-06T02:08:40.320025Z"
    },
    "trusted": true
   },
   "outputs": [
    {
     "name": "stdout",
     "output_type": "stream",
     "text": [
      "Downloading 11785-spring-25-hw-1-p-2.zip to /kaggle/working\n",
      "100%|█████████████████████████████████████▉| 3.98G/3.98G [01:39<00:00, 39.2MB/s]\n",
      "100%|██████████████████████████████████████| 3.98G/3.98G [01:39<00:00, 43.0MB/s]\n"
     ]
    }
   ],
   "source": [
    "!kaggle competitions download -c 11785-spring-25-hw-1-p-2\n",
    "\n",
    "\n",
    "!unzip -qo /kaggle/working/11785-spring-25-hw-1-p-2.zip -d /kaggle/working\n"
   ]
  },
  {
   "cell_type": "code",
   "execution_count": 4,
   "metadata": {
    "execution": {
     "iopub.execute_input": "2025-02-06T02:11:11.159084Z",
     "iopub.status.busy": "2025-02-06T02:11:11.158777Z",
     "iopub.status.idle": "2025-02-06T02:11:11.179658Z",
     "shell.execute_reply": "2025-02-06T02:11:11.178807Z",
     "shell.execute_reply.started": "2025-02-06T02:11:11.159057Z"
    },
    "trusted": true
   },
   "outputs": [],
   "source": [
    "# Dataset class to load train and validation data\n",
    "\n",
    "class AudioDataset(torch.utils.data.Dataset):\n",
    "\n",
    "    def __init__(self, root, phonemes = PHONEMES, context=20, partition= \"train-clean-100\"): # Feel free to add more arguments\n",
    "\n",
    "        self.context    = context\n",
    "        self.phonemes   = phonemes\n",
    "        self.subset = config['subset']\n",
    "\n",
    "        \n",
    "        if config[\"augmentations\"] in [\"FreqMask\", \"Both\"]:\n",
    "            self.freq_masking = tat.FrequencyMasking(freq_mask_param = config[\"freq_mask_param\"])\n",
    "        else:\n",
    "            self.freq_masking = None\n",
    "\n",
    "        if config[\"augmentations\"] in [\"TimeMask\", \"Both\"]:\n",
    "            self.time_masking = tat.TimeMasking(time_mask_param = config[\"time_mask_param\"])\n",
    "        else:\n",
    "            self.time_masking = None\n",
    "\n",
    "\n",
    "        \n",
    "        data_path = os.path.join(root, partition)\n",
    "        self.mfcc_dir = os.path.join(data_path, 'mfcc')\n",
    "        self.transcript_dir = os.path.join(data_path, 'transcript')\n",
    "\n",
    "        \n",
    "        mfcc_names = sorted(os.listdir(self.mfcc_dir))\n",
    "        \n",
    "        transcript_names = sorted(os.listdir(self.transcript_dir))\n",
    "\n",
    "        # Compute size of data subset\n",
    "        subset_size = int(self.subset * len(mfcc_names))\n",
    "\n",
    "        # Select subset of data to use\n",
    "        mfcc_names = mfcc_names[:subset_size]\n",
    "        transcript_names = transcript_names[:subset_size]\n",
    "\n",
    "        # Making sure that we have the same no. of mfcc and transcripts\n",
    "        assert len(mfcc_names) == len(transcript_names)\n",
    "\n",
    "        self.mfccs, self.transcripts = [], []\n",
    "\n",
    "\n",
    "        # TODO: Iterate through mfccs and transcripts\n",
    "        for i in tqdm(range(len(mfcc_names))):\n",
    "\n",
    "            \n",
    "            mfcc = np.load(os.path.join(self.mfcc_dir, mfcc_names[i]))\n",
    "            mfccs_normalized = (mfcc - np.mean(mfcc, axis = 0, keepdims = True))/(np.std(mfcc, axis = 0, keepdims = True) + 0.0000001)\n",
    "            mfccs_normalized = torch.tensor(mfccs_normalized, dtype=torch.float32)\n",
    "            transcript = np.load(os.path.join(self.transcript_dir, transcript_names[i]))\n",
    "            transcript = transcript[1:-1]\n",
    "            transcript_indices = [self.phonemes.index(phonome) for phonome in transcript]\n",
    "            transcript_indices = torch.tensor(transcript_indices, dtype=torch.int64)\n",
    "            self.mfccs.append(mfccs_normalized)\n",
    "            self.transcripts.append(transcript_indices)\n",
    "\n",
    "        self.mfccs = torch.cat(self.mfccs, dim = 0)\n",
    "\n",
    "\n",
    "        self.transcripts = torch.cat(self.transcripts, dim = 0)\n",
    "\n",
    "        self.length = len(self.mfccs)\n",
    "\n",
    "        self.mfccs = nn.functional.pad(self.mfccs, (0,0, self.context, self.context), mode = \"constant\", value = 0)\n",
    "\n",
    "\n",
    "    def __len__(self):\n",
    "        return self.length\n",
    "\n",
    "    def collate_fn(self, batch):\n",
    "      x, y = zip(*batch)\n",
    "      x = torch.stack(x, dim=0)\n",
    "\n",
    "      # Apply augmentations with 70% probability (You can modify the probability)\n",
    "      if np.random.rand() < 0.70:\n",
    "        x = x.transpose(1, 2)  # Shape: (batch_size, freq, time)\n",
    "        x = self.freq_masking(x)\n",
    "        x = self.time_masking(x)\n",
    "        x = x.transpose(1, 2)  # Shape back to: (batch_size, time, freq)\n",
    "\n",
    "      return x, torch.tensor(y)\n",
    "\n",
    "    def __getitem__(self, ind):\n",
    "        # TODO: Based on context and offset, return a frame at given index with context frames to the left, and right.\n",
    "        # frames = NotImplemented\n",
    "        frames = self.mfccs[ind : (2 * self.context) + ind + 1 ]\n",
    "\n",
    "        # After slicing, you get an array of shape 2*context+1 x 28.\n",
    "\n",
    "        phonemes = self.transcripts[ind]\n",
    "\n",
    "        return frames, phonemes\n",
    "\n",
    "\n",
    "\n",
    "class AudioTestDataset(torch.utils.data.Dataset):\n",
    "    def __init__(self, root, context=0, partition= \"test-clean\"): # Feel free to add more arguments\n",
    "\n",
    "        self.context    = context\n",
    "\n",
    "        data_path = os.path.join(root, partition)\n",
    "        self.mfcc_dir = os.path.join(data_path, 'mfcc')\n",
    "\n",
    "        mfcc_names = sorted(os.listdir(self.mfcc_dir))\n",
    "\n",
    "        self.mfccs = []\n",
    "\n",
    "\n",
    "        # TODO: Iterate through mfccs and transcripts\n",
    "        for i in tqdm(range(len(mfcc_names))):\n",
    "\n",
    " \n",
    "            mfcc = np.load(os.path.join(self.mfcc_dir, mfcc_names[i]))\n",
    "     \n",
    "            mfccs_normalized = (mfcc - np.mean(mfcc, axis = 0, keepdims = True))/np.std(mfcc, axis = 0, keepdims = True)\n",
    "     \n",
    "            mfccs_normalized = torch.tensor(mfccs_normalized, dtype=torch.float32)\n",
    "\n",
    "\n",
    "            self.mfccs.append(mfccs_normalized)\n",
    "            # self.transcripts.append(transcript_indices)\n",
    "\n",
    " \n",
    "        self.mfccs = torch.cat(self.mfccs, dim = 0)\n",
    "\n",
    "        self.length = len(self.mfccs)\n",
    "\n",
    "        self.mfccs = nn.functional.pad(self.mfccs, (0,0, self.context, self.context), mode = \"constant\", value = 0)\n",
    "\n",
    "\n",
    "    def __len__(self):\n",
    "        return self.length\n",
    "\n",
    "    def collate_fn(self, batch):\n",
    "      x, y = zip(*batch)\n",
    "      x = torch.stack(x, dim=0)\n",
    "\n",
    "      # Apply augmentations with 70% probability (You can modify the probability)\n",
    "      if np.random.rand() < 0.70:\n",
    "        x = x.transpose(1, 2)  # Shape: (batch_size, freq, time)\n",
    "        x = self.freq_masking(x)\n",
    "        x = self.time_masking(x)\n",
    "        x = x.transpose(1, 2)  # Shape back to: (batch_size, time, freq)\n",
    "\n",
    "      return x, torch.tensor(y)\n",
    "\n",
    "    def __getitem__(self, ind):\n",
    "\n",
    "        frames = self.mfccs[ind : (2 * self.context) + ind + 1 ]\n",
    "        return frames\n",
    "\n"
   ]
  },
  {
   "cell_type": "code",
   "execution_count": 5,
   "metadata": {
    "execution": {
     "iopub.execute_input": "2025-02-06T02:11:11.180667Z",
     "iopub.status.busy": "2025-02-06T02:11:11.180434Z",
     "iopub.status.idle": "2025-02-06T02:12:16.780304Z",
     "shell.execute_reply": "2025-02-06T02:12:16.779522Z",
     "shell.execute_reply.started": "2025-02-06T02:11:11.180648Z"
    },
    "trusted": true
   },
   "outputs": [
    {
     "data": {
      "application/vnd.jupyter.widget-view+json": {
       "model_id": "2d0a3d7244a146c493d5ad3410443e53",
       "version_major": 2,
       "version_minor": 0
      },
      "text/plain": [
       "  0%|          | 0/28539 [00:00<?, ?it/s]"
      ]
     },
     "metadata": {},
     "output_type": "display_data"
    },
    {
     "data": {
      "application/vnd.jupyter.widget-view+json": {
       "model_id": "3640f16172e240329191883373566ef3",
       "version_major": 2,
       "version_minor": 0
      },
      "text/plain": [
       "  0%|          | 0/2703 [00:00<?, ?it/s]"
      ]
     },
     "metadata": {},
     "output_type": "display_data"
    },
    {
     "data": {
      "application/vnd.jupyter.widget-view+json": {
       "model_id": "967a1e01a9b241bbb7d05b2eee4efada",
       "version_major": 2,
       "version_minor": 0
      },
      "text/plain": [
       "  0%|          | 0/2620 [00:00<?, ?it/s]"
      ]
     },
     "metadata": {},
     "output_type": "display_data"
    }
   ],
   "source": [
    "ROOT = \"/kaggle/working/11785-s25-hw1p2\" # Define the root directory of the dataset here\n",
    "\n",
    "train_data = AudioDataset(ROOT, context = config['context'], partition= \"train-clean-100\")\n",
    "\n",
    "\n",
    "val_data = AudioDataset(ROOT, context = config['context'], partition = \"dev-clean\")\n",
    "\n",
    "test_data = AudioTestDataset(ROOT, context = config['context'], partition = \"test-clean\")"
   ]
  },
  {
   "cell_type": "code",
   "execution_count": 6,
   "metadata": {
    "execution": {
     "iopub.execute_input": "2025-02-06T02:12:17.873498Z",
     "iopub.status.busy": "2025-02-06T02:12:17.873162Z",
     "iopub.status.idle": "2025-02-06T02:12:17.882841Z",
     "shell.execute_reply": "2025-02-06T02:12:17.881972Z",
     "shell.execute_reply.started": "2025-02-06T02:12:17.873468Z"
    },
    "trusted": true
   },
   "outputs": [
    {
     "name": "stdout",
     "output_type": "stream",
     "text": [
      "Batch size     :  2048\n",
      "Context        :  30\n",
      "Input size     :  1708\n",
      "Output symbols :  42\n",
      "Train dataset samples = 36091157, batches = 17623\n",
      "Validation dataset samples = 1928204, batches = 942\n",
      "Test dataset samples = 1934138, batches = 945\n"
     ]
    }
   ],
   "source": [
    "train_loader = torch.utils.data.DataLoader(\n",
    "    dataset     = train_data,\n",
    "    # num_workers = 4,\n",
    "    num_workers = 4,\n",
    "    batch_size  = config['batch_size'],\n",
    "    pin_memory  = True,\n",
    "    shuffle     = True,\n",
    "    collate_fn = train_data.collate_fn\n",
    ")\n",
    "\n",
    "val_loader = torch.utils.data.DataLoader(\n",
    "    dataset     = val_data,\n",
    "    num_workers = 0,\n",
    "    batch_size  = config['batch_size'],\n",
    "    pin_memory  = True,\n",
    "    shuffle     = False\n",
    ")\n",
    "\n",
    "test_loader = torch.utils.data.DataLoader(\n",
    "    dataset     = test_data,\n",
    "    num_workers = 2,\n",
    "    batch_size  = config['batch_size'],\n",
    "    pin_memory  = True,\n",
    "    shuffle     = False\n",
    ")\n",
    "\n",
    "\n",
    "print(\"Batch size     : \", config['batch_size'])\n",
    "print(\"Context        : \", config['context'])\n",
    "print(\"Input size     : \", (2*config['context']+1)*28)\n",
    "print(\"Output symbols : \", len(PHONEMES))\n",
    "\n",
    "print(\"Train dataset samples = {}, batches = {}\".format(train_data.__len__(), len(train_loader)))\n",
    "print(\"Validation dataset samples = {}, batches = {}\".format(val_data.__len__(), len(val_loader)))\n",
    "print(\"Test dataset samples = {}, batches = {}\".format(test_data.__len__(), len(test_loader)))"
   ]
  },
  {
   "cell_type": "code",
   "execution_count": 7,
   "metadata": {
    "execution": {
     "iopub.execute_input": "2025-02-06T02:12:19.976366Z",
     "iopub.status.busy": "2025-02-06T02:12:19.976037Z",
     "iopub.status.idle": "2025-02-06T02:12:27.011429Z",
     "shell.execute_reply": "2025-02-06T02:12:27.010391Z",
     "shell.execute_reply.started": "2025-02-06T02:12:19.976334Z"
    },
    "trusted": true
   },
   "outputs": [
    {
     "name": "stdout",
     "output_type": "stream",
     "text": [
      "torch.Size([2048, 61, 28]) torch.Size([2048])\n"
     ]
    },
    {
     "data": {
      "image/png": "[encoded data removed]",
      "text/plain": [
       "<Figure size 1000x600 with 1 Axes>"
      ]
     },
     "metadata": {},
     "output_type": "display_data"
    }
   ],
   "source": [
    "import matplotlib.pyplot as plt\n",
    "\n",
    "# Testing code to check if your data loaders are working\n",
    "for i, data in enumerate(train_loader):\n",
    "    frames, phoneme = data\n",
    "    print(frames.shape, phoneme.shape)\n",
    "\n",
    "    # Visualize sample mfcc to inspect and verify everything is correctly done, especially augmentations\n",
    "    plt.figure(figsize=(10, 6))\n",
    "    plt.imshow(frames[0].numpy().T, aspect='auto', origin='lower', cmap='viridis')\n",
    "    plt.xlabel('Time')\n",
    "    plt.ylabel('Features')\n",
    "    plt.title('Feature Representation')\n",
    "    plt.show()\n",
    "\n",
    "    break"
   ]
  },
  {
   "cell_type": "code",
   "execution_count": 8,
   "metadata": {
    "execution": {
     "iopub.execute_input": "2025-02-06T02:12:27.013256Z",
     "iopub.status.busy": "2025-02-06T02:12:27.012888Z",
     "iopub.status.idle": "2025-02-06T02:12:27.043520Z",
     "shell.execute_reply": "2025-02-06T02:12:27.042841Z",
     "shell.execute_reply.started": "2025-02-06T02:12:27.013216Z"
    },
    "trusted": true
   },
   "outputs": [],
   "source": [
    "# Testing code to check if your validation data loaders are working\n",
    "all = []\n",
    "for i, data in enumerate(val_loader):\n",
    "    frames, phoneme = data\n",
    "    all.append(phoneme)\n",
    "    break"
   ]
  },
  {
   "cell_type": "code",
   "execution_count": 9,
   "metadata": {
    "execution": {
     "iopub.execute_input": "2025-02-06T02:12:27.045287Z",
     "iopub.status.busy": "2025-02-06T02:12:27.045073Z",
     "iopub.status.idle": "2025-02-06T02:12:27.055217Z",
     "shell.execute_reply": "2025-02-06T02:12:27.054373Z",
     "shell.execute_reply.started": "2025-02-06T02:12:27.045268Z"
    },
    "trusted": true
   },
   "outputs": [],
   "source": [
    "import torch\n",
    "import torch.nn as nn\n",
    "\n",
    "class OptimizedNetwork(nn.Module):\n",
    "    def __init__(self, input_size, output_size):\n",
    "        super().__init__()\n",
    "        self.model = nn.Sequential(\n",
    "            nn.Linear(input_size, 2048),\n",
    "            nn.LayerNorm(2048),\n",
    "            nn.GELU(),\n",
    "            nn.Dropout(0.3),\n",
    "            \n",
    "            nn.Sequential(\n",
    "                ResidualBlock(2048, 1024, expansion=0.75),\n",
    "                SelfAttentionGate(1024),\n",
    "                nn.Dropout(0.3)\n",
    "            ),\n",
    "            \n",
    "            nn.Sequential(\n",
    "                nn.Linear(1024, 2048),\n",
    "                nn.LayerNorm(2048),\n",
    "                nn.SiLU(),\n",
    "                nn.Dropout(0.3)\n",
    "            ),\n",
    "            \n",
    "            nn.Sequential(\n",
    "                ResidualBlock(2048, 1024, expansion=0.5),\n",
    "                SelfAttentionGate(1024),\n",
    "                nn.Dropout(0.3)\n",
    "            ),\n",
    "            \n",
    "            nn.Sequential(\n",
    "                ResidualBlock(1024, 1024, expansion=0.5),\n",
    "                nn.Dropout(0.2)\n",
    "            ),\n",
    "            \n",
    "            nn.Sequential(\n",
    "                nn.Linear(1024, 512),\n",
    "                nn.LayerNorm(512),\n",
    "                nn.GELU(),\n",
    "                nn.Dropout(0.2),\n",
    "\n",
    "                nn.Linear(512, 256),\n",
    "                nn.LayerNorm(256),\n",
    "                nn.SiLU(),\n",
    "\n",
    "                nn.Linear(256, output_size)\n",
    "            )\n",
    "        )\n",
    "        self.initialize_weights()\n",
    "\n",
    "    def initialize_weights(self):\n",
    "        for m in self.modules():\n",
    "            if isinstance(m, nn.Linear):\n",
    "                nn.init.kaiming_normal_(m.weight, nonlinearity='relu')\n",
    "                nn.init.zeros_(m.bias)\n",
    "                \n",
    "    def forward(self, x):\n",
    "        return self.model(x.flatten(1))\n",
    "\n",
    "class ResidualBlock(nn.Module):\n",
    "    def __init__(self, in_dim, out_dim, expansion=0.5):\n",
    "        super().__init__()\n",
    "        hidden_dim = int(in_dim * expansion)\n",
    "        self.block = nn.Sequential(\n",
    "            nn.Linear(in_dim, hidden_dim),\n",
    "            nn.LayerNorm(hidden_dim),\n",
    "            nn.GELU(),\n",
    "            nn.Linear(hidden_dim, out_dim),\n",
    "            nn.LayerNorm(out_dim)\n",
    "        )\n",
    "        self.shortcut = nn.Linear(in_dim, out_dim) if in_dim != out_dim else nn.Identity()\n",
    "        \n",
    "    def forward(self, x):\n",
    "        return self.block(x) + self.shortcut(x)\n",
    "\n",
    "class SelfAttentionGate(nn.Module):\n",
    "    def __init__(self, dim):\n",
    "        super().__init__()\n",
    "        self.attn = nn.Sequential(\n",
    "            nn.Linear(dim, max(128, dim//8)),  \n",
    "            nn.GELU(),\n",
    "            nn.Linear(max(128, dim//8), dim),\n",
    "            nn.Sigmoid()\n",
    "        )\n",
    "        \n",
    "    def forward(self, x):\n",
    "        return x * self.attn(x) + x  \n"
   ]
  },
  {
   "cell_type": "code",
   "execution_count": 10,
   "metadata": {
    "execution": {
     "iopub.execute_input": "2025-02-06T02:12:27.056400Z",
     "iopub.status.busy": "2025-02-06T02:12:27.056108Z",
     "iopub.status.idle": "2025-02-06T02:12:27.604599Z",
     "shell.execute_reply": "2025-02-06T02:12:27.603525Z",
     "shell.execute_reply.started": "2025-02-06T02:12:27.056372Z"
    },
    "trusted": true
   },
   "outputs": [
    {
     "name": "stdout",
     "output_type": "stream",
     "text": [
      "----------------------------------------------------------------\n",
      "        Layer (type)               Output Shape         Param #\n",
      "================================================================\n",
      "            Linear-1                 [-1, 2048]       3,500,032\n",
      "         LayerNorm-2                 [-1, 2048]           4,096\n",
      "              GELU-3                 [-1, 2048]               0\n",
      "           Dropout-4                 [-1, 2048]               0\n",
      "            Linear-5                 [-1, 1536]       3,147,264\n",
      "         LayerNorm-6                 [-1, 1536]           3,072\n",
      "              GELU-7                 [-1, 1536]               0\n",
      "            Linear-8                 [-1, 1024]       1,573,888\n",
      "         LayerNorm-9                 [-1, 1024]           2,048\n",
      "           Linear-10                 [-1, 1024]       2,098,176\n",
      "    ResidualBlock-11                 [-1, 1024]               0\n",
      "           Linear-12                  [-1, 128]         131,200\n",
      "             GELU-13                  [-1, 128]               0\n",
      "           Linear-14                 [-1, 1024]         132,096\n",
      "          Sigmoid-15                 [-1, 1024]               0\n",
      "SelfAttentionGate-16                 [-1, 1024]               0\n",
      "          Dropout-17                 [-1, 1024]               0\n",
      "           Linear-18                 [-1, 2048]       2,099,200\n",
      "        LayerNorm-19                 [-1, 2048]           4,096\n",
      "             SiLU-20                 [-1, 2048]               0\n",
      "          Dropout-21                 [-1, 2048]               0\n",
      "           Linear-22                 [-1, 1024]       2,098,176\n",
      "        LayerNorm-23                 [-1, 1024]           2,048\n",
      "             GELU-24                 [-1, 1024]               0\n",
      "           Linear-25                 [-1, 1024]       1,049,600\n",
      "        LayerNorm-26                 [-1, 1024]           2,048\n",
      "           Linear-27                 [-1, 1024]       2,098,176\n",
      "    ResidualBlock-28                 [-1, 1024]               0\n",
      "           Linear-29                  [-1, 128]         131,200\n",
      "             GELU-30                  [-1, 128]               0\n",
      "           Linear-31                 [-1, 1024]         132,096\n",
      "          Sigmoid-32                 [-1, 1024]               0\n",
      "SelfAttentionGate-33                 [-1, 1024]               0\n",
      "          Dropout-34                 [-1, 1024]               0\n",
      "           Linear-35                  [-1, 512]         524,800\n",
      "        LayerNorm-36                  [-1, 512]           1,024\n",
      "             GELU-37                  [-1, 512]               0\n",
      "           Linear-38                 [-1, 1024]         525,312\n",
      "        LayerNorm-39                 [-1, 1024]           2,048\n",
      "         Identity-40                 [-1, 1024]               0\n",
      "    ResidualBlock-41                 [-1, 1024]               0\n",
      "          Dropout-42                 [-1, 1024]               0\n",
      "           Linear-43                  [-1, 512]         524,800\n",
      "        LayerNorm-44                  [-1, 512]           1,024\n",
      "             GELU-45                  [-1, 512]               0\n",
      "          Dropout-46                  [-1, 512]               0\n",
      "           Linear-47                  [-1, 256]         131,328\n",
      "        LayerNorm-48                  [-1, 256]             512\n",
      "             SiLU-49                  [-1, 256]               0\n",
      "           Linear-50                   [-1, 42]          10,794\n",
      "================================================================\n",
      "Total params: 19,930,154\n",
      "Trainable params: 19,930,154\n",
      "Non-trainable params: 0\n",
      "----------------------------------------------------------------\n",
      "Input size (MB): 0.01\n",
      "Forward/backward pass size (MB): 0.39\n",
      "Params size (MB): 76.03\n",
      "Estimated Total Size (MB): 76.42\n",
      "----------------------------------------------------------------\n"
     ]
    }
   ],
   "source": [
    "INPUT_SIZE  = (2*config['context'] + 1) * 28 # Why is this the case?\n",
    "model       = OptimizedNetwork(INPUT_SIZE, len(train_data.phonemes)).to(device)\n",
    "summary(model, frames[0].to(device).shape)"
   ]
  },
  {
   "cell_type": "code",
   "execution_count": 11,
   "metadata": {
    "execution": {
     "iopub.execute_input": "2025-02-06T02:12:33.190631Z",
     "iopub.status.busy": "2025-02-06T02:12:33.190242Z",
     "iopub.status.idle": "2025-02-06T02:12:48.473575Z",
     "shell.execute_reply": "2025-02-06T02:12:48.472768Z",
     "shell.execute_reply.started": "2025-02-06T02:12:33.190597Z"
    },
    "trusted": true
   },
   "outputs": [],
   "source": [
    "!pip install triton>=2.2.0 lion-pytorch\n",
    "\n",
    "from lion_pytorch import Lion\n",
    "\n",
    "optimizer = Lion(\n",
    "    model.parameters(),\n",
    "    lr=3e-4,  \n",
    "    weight_decay=1e-2,  \n",
    "    use_triton=False  \n",
    ")\n"
   ]
  },
  {
   "cell_type": "code",
   "execution_count": 12,
   "metadata": {
    "execution": {
     "iopub.execute_input": "2025-02-06T02:12:48.475114Z",
     "iopub.status.busy": "2025-02-06T02:12:48.474662Z",
     "iopub.status.idle": "2025-02-06T02:12:48.479646Z",
     "shell.execute_reply": "2025-02-06T02:12:48.478672Z",
     "shell.execute_reply.started": "2025-02-06T02:12:48.475090Z"
    },
    "trusted": true
   },
   "outputs": [],
   "source": [
    "from torch.optim.lr_scheduler import OneCycleLR\n",
    "\n",
    "total_steps = config['epochs'] * len(train_loader)  \n",
    "\n",
    "scheduler = OneCycleLR(\n",
    "    optimizer,\n",
    "    max_lr=1e-3, \n",
    "    total_steps=total_steps,\n",
    "    pct_start=0.3,  \n",
    "    anneal_strategy='cos',  \n",
    "    final_div_factor=100 \n",
    ")\n"
   ]
  },
  {
   "cell_type": "code",
   "execution_count": 13,
   "metadata": {
    "execution": {
     "iopub.execute_input": "2025-02-06T02:12:48.481585Z",
     "iopub.status.busy": "2025-02-06T02:12:48.481349Z",
     "iopub.status.idle": "2025-02-06T02:12:48.502277Z",
     "shell.execute_reply": "2025-02-06T02:12:48.501523Z",
     "shell.execute_reply.started": "2025-02-06T02:12:48.481563Z"
    },
    "trusted": true
   },
   "outputs": [],
   "source": [
    "criterion = torch.nn.CrossEntropyLoss()"
   ]
  },
  {
   "cell_type": "code",
   "execution_count": 14,
   "metadata": {
    "execution": {
     "iopub.execute_input": "2025-02-06T02:12:48.503738Z",
     "iopub.status.busy": "2025-02-06T02:12:48.503417Z",
     "iopub.status.idle": "2025-02-06T02:12:48.523302Z",
     "shell.execute_reply": "2025-02-06T02:12:48.522476Z",
     "shell.execute_reply.started": "2025-02-06T02:12:48.503684Z"
    },
    "trusted": true
   },
   "outputs": [
    {
     "name": "stderr",
     "output_type": "stream",
     "text": [
      "<ipython-input-14-1401778c2c1d>:2: FutureWarning: `torch.cuda.amp.GradScaler(args...)` is deprecated. Please use `torch.amp.GradScaler('cuda', args...)` instead.\n",
      "  scaler = torch.cuda.amp.GradScaler(enabled=True)\n"
     ]
    }
   ],
   "source": [
    "scaler = torch.cuda.amp.GradScaler(enabled=True)\n",
    "torch.set_float32_matmul_precision('high')\n"
   ]
  },
  {
   "cell_type": "code",
   "execution_count": 15,
   "metadata": {
    "execution": {
     "iopub.execute_input": "2025-02-06T02:12:48.524476Z",
     "iopub.status.busy": "2025-02-06T02:12:48.524196Z",
     "iopub.status.idle": "2025-02-06T02:12:48.540113Z",
     "shell.execute_reply": "2025-02-06T02:12:48.539142Z",
     "shell.execute_reply.started": "2025-02-06T02:12:48.524426Z"
    },
    "trusted": true
   },
   "outputs": [],
   "source": [
    "def train(model, dataloader, optimizer, criterion):\n",
    "\n",
    "    model.train()\n",
    "    tloss, tacc = 0, 0 # Monitoring loss and accuracy\n",
    "    batch_bar   = tqdm(total=len(train_loader), dynamic_ncols=True, leave=False, position=0, desc='Train')\n",
    "\n",
    "    for i, (frames, phonemes) in enumerate(dataloader):\n",
    "\n",
    "        ### Initialize Gradients\n",
    "        optimizer.zero_grad()\n",
    "\n",
    "        frames      = frames.to(device)\n",
    "        phonemes    = phonemes.to(device)\n",
    "\n",
    "        with torch.autocast(device_type=device, dtype=torch.float16):\n",
    "            ### Forward Propagation\n",
    "            logits  = model(frames)\n",
    "\n",
    "            ### Loss Calculation\n",
    "            loss    = criterion(logits, phonemes)\n",
    "\n",
    "        ### Backward Propagation\n",
    "        scaler.scale(loss).backward()\n",
    "\n",
    "        # OPTIONAL: You can add gradient clipping here, if you face issues of exploding gradients\n",
    "\n",
    "        ### Gradient Descent\n",
    "        scaler.step(optimizer)\n",
    "        scaler.update()\n",
    "\n",
    "        tloss   += loss.item()\n",
    "        tacc    += torch.sum(torch.argmax(logits, dim= 1) == phonemes).item()/logits.shape[0]\n",
    "\n",
    "        batch_bar.set_postfix(loss=\"{:.04f}\".format(float(tloss / (i + 1))),\n",
    "                              acc=\"{:.04f}%\".format(float(tacc*100 / (i + 1))))\n",
    "        batch_bar.update()\n",
    "\n",
    "        ### Release memory\n",
    "        del frames, phonemes, logits\n",
    "        torch.cuda.empty_cache()\n",
    "\n",
    "\n",
    "    batch_bar.close()\n",
    "    tloss   /= len(train_loader)\n",
    "    tacc    /= len(train_loader)\n",
    "\n",
    "\n",
    "    return tloss, tacc"
   ]
  },
  {
   "cell_type": "code",
   "execution_count": 16,
   "metadata": {
    "execution": {
     "iopub.execute_input": "2025-02-06T02:12:48.541276Z",
     "iopub.status.busy": "2025-02-06T02:12:48.541001Z",
     "iopub.status.idle": "2025-02-06T02:12:48.554056Z",
     "shell.execute_reply": "2025-02-06T02:12:48.553254Z",
     "shell.execute_reply.started": "2025-02-06T02:12:48.541242Z"
    },
    "trusted": true
   },
   "outputs": [],
   "source": [
    "def eval(model, dataloader):\n",
    "\n",
    "    model.eval() # set model in evaluation mode\n",
    "    vloss, vacc = 0, 0 # Monitoring loss and accuracy\n",
    "    batch_bar   = tqdm(total=len(val_loader), dynamic_ncols=True, position=0, leave=False, desc='Val')\n",
    "\n",
    "    for i, (frames, phonemes) in enumerate(dataloader):\n",
    "\n",
    "        ### Move data to device (ideally GPU)\n",
    "        frames      = frames.to(device)\n",
    "        phonemes    = phonemes.to(device)\n",
    "\n",
    "        # makes sure that there are no gradients computed as we are not training the model now\n",
    "        with torch.inference_mode():\n",
    "            ### Forward Propagation\n",
    "            logits  = model(frames)\n",
    "            ### Loss Calculation\n",
    "            loss    = criterion(logits, phonemes)\n",
    "\n",
    "        vloss   += loss.item()\n",
    "        vacc    += torch.sum(torch.argmax(logits, dim= 1) == phonemes).item()/logits.shape[0]\n",
    "\n",
    "        # Do you think we need loss.backward() and optimizer.step() here?\n",
    "\n",
    "        batch_bar.set_postfix(loss=\"{:.04f}\".format(float(vloss / (i + 1))),\n",
    "                              acc=\"{:.04f}%\".format(float(vacc*100 / (i + 1))))\n",
    "        batch_bar.update()\n",
    "\n",
    "        ### Release memory\n",
    "        del frames, phonemes, logits\n",
    "        torch.cuda.empty_cache()\n",
    "\n",
    "    batch_bar.close()\n",
    "    vloss   /= len(val_loader)\n",
    "    vacc    /= len(val_loader)\n",
    "\n",
    "    return vloss, vacc"
   ]
  },
  {
   "cell_type": "code",
   "execution_count": 17,
   "metadata": {
    "execution": {
     "iopub.execute_input": "2025-02-06T02:12:48.554919Z",
     "iopub.status.busy": "2025-02-06T02:12:48.554689Z",
     "iopub.status.idle": "2025-02-06T02:12:55.747772Z",
     "shell.execute_reply": "2025-02-06T02:12:55.747006Z",
     "shell.execute_reply.started": "2025-02-06T02:12:48.554899Z"
    },
    "trusted": true
   },
   "outputs": [
    {
     "name": "stderr",
     "output_type": "stream",
     "text": [
      "\u001b[34m\u001b[1mwandb\u001b[0m: Using wandb-core as the SDK backend.  Please refer to https://wandb.me/wandb-core for more information.\n",
      "\u001b[34m\u001b[1mwandb\u001b[0m: Currently logged in as: \u001b[33mgopalakt\u001b[0m (\u001b[33mgopalakt-carnegie-mellon-university\u001b[0m). Use \u001b[1m`wandb login --relogin`\u001b[0m to force relogin\n",
      "\u001b[34m\u001b[1mwandb\u001b[0m: \u001b[33mWARNING\u001b[0m If you're specifying your api key in code, ensure this code is not shared publicly.\n",
      "\u001b[34m\u001b[1mwandb\u001b[0m: \u001b[33mWARNING\u001b[0m Consider setting the WANDB_API_KEY environment variable, or running `wandb login` from the command line.\n",
      "\u001b[34m\u001b[1mwandb\u001b[0m: Appending key for api.wandb.ai to your netrc file: /root/.netrc\n"
     ]
    },
    {
     "data": {
      "text/plain": [
       "True"
      ]
     },
     "execution_count": 17,
     "metadata": {},
     "output_type": "execute_result"
    }
   ],
   "source": [
    "wandb.login(key=\"c59e320dfcb249ed2a66979ac2fff03bbddd8f3c\") #API Key is in your wandb account, under settings (wandb.ai/settings)"
   ]
  },
  {
   "cell_type": "code",
   "execution_count": 18,
   "metadata": {
    "execution": {
     "iopub.execute_input": "2025-02-06T02:12:55.749934Z",
     "iopub.status.busy": "2025-02-06T02:12:55.749527Z",
     "iopub.status.idle": "2025-02-06T02:13:02.625760Z",
     "shell.execute_reply": "2025-02-06T02:13:02.625031Z",
     "shell.execute_reply.started": "2025-02-06T02:12:55.749911Z"
    },
    "trusted": true
   },
   "outputs": [
    {
     "data": {
      "text/html": [
       "Tracking run with wandb version 0.19.1"
      ],
      "text/plain": [
       "<IPython.core.display.HTML object>"
      ]
     },
     "metadata": {},
     "output_type": "display_data"
    },
    {
     "data": {
      "text/html": [
       "Run data is saved locally in <code>/kaggle/working/wandb/run-20250206_021255-1ealgvvf</code>"
      ],
      "text/plain": [
       "<IPython.core.display.HTML object>"
      ]
     },
     "metadata": {},
     "output_type": "display_data"
    },
    {
     "data": {
      "text/html": [
       "Resuming run <strong><a href='https://wandb.ai/gopalakt-carnegie-mellon-university/h1p2/runs/1ealgvvf' target=\"_blank\">first-major-run11</a></strong> to <a href='https://wandb.ai/gopalakt-carnegie-mellon-university/h1p2' target=\"_blank\">Weights & Biases</a> (<a href='https://wandb.me/developer-guide' target=\"_blank\">docs</a>)<br>"
      ],
      "text/plain": [
       "<IPython.core.display.HTML object>"
      ]
     },
     "metadata": {},
     "output_type": "display_data"
    },
    {
     "data": {
      "text/html": [
       " View project at <a href='https://wandb.ai/gopalakt-carnegie-mellon-university/h1p2' target=\"_blank\">https://wandb.ai/gopalakt-carnegie-mellon-university/h1p2</a>"
      ],
      "text/plain": [
       "<IPython.core.display.HTML object>"
      ]
     },
     "metadata": {},
     "output_type": "display_data"
    },
    {
     "data": {
      "text/html": [
       " View run at <a href='https://wandb.ai/gopalakt-carnegie-mellon-university/h1p2/runs/1ealgvvf' target=\"_blank\">https://wandb.ai/gopalakt-carnegie-mellon-university/h1p2/runs/1ealgvvf</a>"
      ],
      "text/plain": [
       "<IPython.core.display.HTML object>"
      ]
     },
     "metadata": {},
     "output_type": "display_data"
    }
   ],
   "source": [
    "# Create your wandb run\n",
    "run = wandb.init(\n",
    "    name    = \"first-major-run11\", ### Wandb creates random run names if you skip this field, we recommend you give useful names\n",
    "    reinit  = True, ### Allows reinitalizing runs when you re-run this cell\n",
    "    id     = \"1ealgvvf\", ### Insert specific run id here if you want to resume a previous run\n",
    "    resume = \"must\", ### You need this to resume previous runs, but comment out reinit = True when using this\n",
    "    project = \"h1p2\", ### Project should be created in your wandb account\n",
    "    config  = config ### Wandb Config for your run\n",
    ")"
   ]
  },
  {
   "cell_type": "code",
   "execution_count": 19,
   "metadata": {
    "execution": {
     "iopub.execute_input": "2025-02-06T02:13:02.626984Z",
     "iopub.status.busy": "2025-02-06T02:13:02.626697Z",
     "iopub.status.idle": "2025-02-06T02:13:02.634987Z",
     "shell.execute_reply": "2025-02-06T02:13:02.634216Z",
     "shell.execute_reply.started": "2025-02-06T02:13:02.626959Z"
    },
    "trusted": true
   },
   "outputs": [
    {
     "data": {
      "text/plain": [
       "['/kaggle/working/wandb/run-20250206_021255-1ealgvvf/files/model_arch.txt']"
      ]
     },
     "execution_count": 19,
     "metadata": {},
     "output_type": "execute_result"
    }
   ],
   "source": [
    "### Save your model architecture as a string with str(model)\n",
    "model_arch  = str(model)\n",
    "\n",
    "### Save it in a txt file\n",
    "arch_file   = open(\"model_arch.txt\", \"w\")\n",
    "file_write  = arch_file.write(model_arch)\n",
    "arch_file.close()\n",
    "\n",
    "### log it in your wandb run with wandb.save()\n",
    "wandb.save('model_arch.txt')"
   ]
  },
  {
   "cell_type": "code",
   "execution_count": 35,
   "metadata": {
    "execution": {
     "iopub.execute_input": "2025-02-06T05:08:07.190182Z",
     "iopub.status.busy": "2025-02-06T05:08:07.189858Z",
     "iopub.status.idle": "2025-02-06T05:08:07.772044Z",
     "shell.execute_reply": "2025-02-06T05:08:07.771153Z",
     "shell.execute_reply.started": "2025-02-06T05:08:07.190154Z"
    },
    "trusted": true
   },
   "outputs": [
    {
     "name": "stdout",
     "output_type": "stream",
     "text": [
      "True\n",
      "Resuming training from epoch 47\n"
     ]
    },
    {
     "name": "stderr",
     "output_type": "stream",
     "text": [
      "<ipython-input-35-4b82c42c3238>:5: FutureWarning: You are using `torch.load` with `weights_only=False` (the current default value), which uses the default pickle module implicitly. It is possible to construct malicious pickle data which will execute arbitrary code during unpickling (See https://github.com/pytorch/pytorch/blob/main/SECURITY.md#untrusted-models for more details). In a future release, the default value for `weights_only` will be flipped to `True`. This limits the functions that could be executed during unpickling. Arbitrary objects will no longer be allowed to be loaded via this mode unless they are explicitly allowlisted by the user via `torch.serialization.add_safe_globals`. We recommend you start setting `weights_only=True` for any use case where you don't have full control of the loaded file. Please open an issue on GitHub for any issues related to this experimental feature.\n",
      "  checkpoint = torch.load(restored_checkpoint.name)\n"
     ]
    }
   ],
   "source": [
    "# Restore checkpoint from wandb\n",
    "restored_checkpoint = wandb.restore(f'checkpoint_epoch_{47}.pth')  # Replace with specific epoch\n",
    "\n",
    "# Load checkpoint into model and optimizer\n",
    "checkpoint = torch.load(restored_checkpoint.name)\n",
    "model.load_state_dict(checkpoint['model_state_dict'])\n",
    "optimizer.load_state_dict(checkpoint['optimizer_state_dict'])\n",
    "if checkpoint.get('scheduler_state_dict'):\n",
    "    scheduler.load_state_dict(checkpoint['scheduler_state_dict'])\n",
    "\n",
    "# Resume from the epoch saved in the checkpoint\n",
    "start_epoch = checkpoint['epoch']\n",
    "print(f\"Resuming training from epoch {start_epoch}\")\n"
   ]
  },
  {
   "cell_type": "code",
   "execution_count": 34,
   "metadata": {
    "execution": {
     "iopub.execute_input": "2025-02-06T03:47:25.849797Z",
     "iopub.status.busy": "2025-02-06T03:47:25.849484Z",
     "iopub.status.idle": "2025-02-06T05:07:58.267749Z",
     "shell.execute_reply": "2025-02-06T05:07:58.266405Z",
     "shell.execute_reply.started": "2025-02-06T03:47:25.849772Z"
    },
    "trusted": true
   },
   "outputs": [
    {
     "name": "stdout",
     "output_type": "stream",
     "text": [
      "\n",
      "Epoch 45/50\n"
     ]
    },
    {
     "data": {
      "application/vnd.jupyter.widget-view+json": {
       "model_id": "",
       "version_major": 2,
       "version_minor": 0
      },
      "text/plain": [
       "Train:   0%|          | 0/17623 [00:00<?, ?it/s]"
      ]
     },
     "metadata": {},
     "output_type": "display_data"
    },
    {
     "data": {
      "application/vnd.jupyter.widget-view+json": {
       "model_id": "",
       "version_major": 2,
       "version_minor": 0
      },
      "text/plain": [
       "Val:   0%|          | 0/942 [00:00<?, ?it/s]"
      ]
     },
     "metadata": {},
     "output_type": "display_data"
    },
    {
     "name": "stdout",
     "output_type": "stream",
     "text": [
      "\tTrain Acc 84.9835%\tTrain Loss 0.4359\t Learning Rate 0.0000001\n",
      "\tVal Acc 85.9056%\tVal Loss 0.4211\n",
      "\n",
      "Epoch 46/50\n"
     ]
    },
    {
     "data": {
      "application/vnd.jupyter.widget-view+json": {
       "model_id": "",
       "version_major": 2,
       "version_minor": 0
      },
      "text/plain": [
       "Train:   0%|          | 0/17623 [00:00<?, ?it/s]"
      ]
     },
     "metadata": {},
     "output_type": "display_data"
    },
    {
     "data": {
      "application/vnd.jupyter.widget-view+json": {
       "model_id": "",
       "version_major": 2,
       "version_minor": 0
      },
      "text/plain": [
       "Val:   0%|          | 0/942 [00:00<?, ?it/s]"
      ]
     },
     "metadata": {},
     "output_type": "display_data"
    },
    {
     "name": "stdout",
     "output_type": "stream",
     "text": [
      "\tTrain Acc 84.9826%\tTrain Loss 0.4358\t Learning Rate 0.0000001\n",
      "\tVal Acc 85.9059%\tVal Loss 0.4211\n",
      "\n",
      "Epoch 47/50\n"
     ]
    },
    {
     "data": {
      "application/vnd.jupyter.widget-view+json": {
       "model_id": "",
       "version_major": 2,
       "version_minor": 0
      },
      "text/plain": [
       "Train:   0%|          | 0/17623 [00:00<?, ?it/s]"
      ]
     },
     "metadata": {},
     "output_type": "display_data"
    },
    {
     "data": {
      "application/vnd.jupyter.widget-view+json": {
       "model_id": "",
       "version_major": 2,
       "version_minor": 0
      },
      "text/plain": [
       "Val:   0%|          | 0/942 [00:00<?, ?it/s]"
      ]
     },
     "metadata": {},
     "output_type": "display_data"
    },
    {
     "name": "stdout",
     "output_type": "stream",
     "text": [
      "\tTrain Acc 85.0358%\tTrain Loss 0.4342\t Learning Rate 0.0000001\n",
      "\tVal Acc 85.9069%\tVal Loss 0.4212\n",
      "\n",
      "Epoch 48/50\n"
     ]
    },
    {
     "data": {
      "application/vnd.jupyter.widget-view+json": {
       "model_id": "",
       "version_major": 2,
       "version_minor": 0
      },
      "text/plain": [
       "Train:   0%|          | 0/17623 [00:00<?, ?it/s]"
      ]
     },
     "metadata": {},
     "output_type": "display_data"
    },
    {
     "data": {
      "application/vnd.jupyter.widget-view+json": {
       "model_id": "",
       "version_major": 2,
       "version_minor": 0
      },
      "text/plain": [
       "Val:   0%|          | 0/942 [00:00<?, ?it/s]"
      ]
     },
     "metadata": {},
     "output_type": "display_data"
    },
    {
     "name": "stdout",
     "output_type": "stream",
     "text": [
      "\tTrain Acc 84.9956%\tTrain Loss 0.4354\t Learning Rate 0.0000001\n",
      "\tVal Acc 85.9066%\tVal Loss 0.4211\n",
      "\n",
      "Epoch 49/50\n"
     ]
    },
    {
     "data": {
      "application/vnd.jupyter.widget-view+json": {
       "model_id": "49d2e8fdef5f4fecb19327c3924e6899",
       "version_major": 2,
       "version_minor": 0
      },
      "text/plain": [
       "Train:   0%|          | 0/17623 [00:00<?, ?it/s]"
      ]
     },
     "metadata": {},
     "output_type": "display_data"
    },
    {
     "ename": "KeyboardInterrupt",
     "evalue": "",
     "output_type": "error",
     "traceback": [
      "\u001b[0;31m---------------------------------------------------------------------------\u001b[0m",
      "\u001b[0;31mKeyboardInterrupt\u001b[0m                         Traceback (most recent call last)",
      "\u001b[0;32m<ipython-input-34-9f3ab36993bf>\u001b[0m in \u001b[0;36m<cell line: 15>\u001b[0;34m()\u001b[0m\n\u001b[1;32m     19\u001b[0m \u001b[0;34m\u001b[0m\u001b[0m\n\u001b[1;32m     20\u001b[0m     \u001b[0mcurr_lr\u001b[0m                 \u001b[0;34m=\u001b[0m \u001b[0mfloat\u001b[0m\u001b[0;34m(\u001b[0m\u001b[0moptimizer\u001b[0m\u001b[0;34m.\u001b[0m\u001b[0mparam_groups\u001b[0m\u001b[0;34m[\u001b[0m\u001b[0;36m0\u001b[0m\u001b[0;34m]\u001b[0m\u001b[0;34m[\u001b[0m\u001b[0;34m'lr'\u001b[0m\u001b[0;34m]\u001b[0m\u001b[0;34m)\u001b[0m\u001b[0;34m\u001b[0m\u001b[0;34m\u001b[0m\u001b[0m\n\u001b[0;32m---> 21\u001b[0;31m     \u001b[0mtrain_loss\u001b[0m\u001b[0;34m,\u001b[0m \u001b[0mtrain_acc\u001b[0m   \u001b[0;34m=\u001b[0m \u001b[0mtrain\u001b[0m\u001b[0;34m(\u001b[0m\u001b[0mmodel\u001b[0m\u001b[0;34m,\u001b[0m \u001b[0mtrain_loader\u001b[0m\u001b[0;34m,\u001b[0m \u001b[0moptimizer\u001b[0m\u001b[0;34m,\u001b[0m \u001b[0mcriterion\u001b[0m\u001b[0;34m)\u001b[0m\u001b[0;34m\u001b[0m\u001b[0;34m\u001b[0m\u001b[0m\n\u001b[0m\u001b[1;32m     22\u001b[0m     \u001b[0mval_loss\u001b[0m\u001b[0;34m,\u001b[0m \u001b[0mval_acc\u001b[0m       \u001b[0;34m=\u001b[0m \u001b[0meval\u001b[0m\u001b[0;34m(\u001b[0m\u001b[0mmodel\u001b[0m\u001b[0;34m,\u001b[0m \u001b[0mval_loader\u001b[0m\u001b[0;34m)\u001b[0m\u001b[0;34m\u001b[0m\u001b[0;34m\u001b[0m\u001b[0m\n\u001b[1;32m     23\u001b[0m \u001b[0;34m\u001b[0m\u001b[0m\n",
      "\u001b[0;32m<ipython-input-15-c5bdd50cdc1b>\u001b[0m in \u001b[0;36mtrain\u001b[0;34m(model, dataloader, optimizer, criterion)\u001b[0m\n\u001b[1;32m     26\u001b[0m \u001b[0;34m\u001b[0m\u001b[0m\n\u001b[1;32m     27\u001b[0m         \u001b[0;31m### Gradient Descent\u001b[0m\u001b[0;34m\u001b[0m\u001b[0;34m\u001b[0m\u001b[0m\n\u001b[0;32m---> 28\u001b[0;31m         \u001b[0mscaler\u001b[0m\u001b[0;34m.\u001b[0m\u001b[0mstep\u001b[0m\u001b[0;34m(\u001b[0m\u001b[0moptimizer\u001b[0m\u001b[0;34m)\u001b[0m\u001b[0;34m\u001b[0m\u001b[0;34m\u001b[0m\u001b[0m\n\u001b[0m\u001b[1;32m     29\u001b[0m         \u001b[0mscaler\u001b[0m\u001b[0;34m.\u001b[0m\u001b[0mupdate\u001b[0m\u001b[0;34m(\u001b[0m\u001b[0;34m)\u001b[0m\u001b[0;34m\u001b[0m\u001b[0;34m\u001b[0m\u001b[0m\n\u001b[1;32m     30\u001b[0m \u001b[0;34m\u001b[0m\u001b[0m\n",
      "\u001b[0;32m/usr/local/lib/python3.10/dist-packages/torch/amp/grad_scaler.py\u001b[0m in \u001b[0;36mstep\u001b[0;34m(self, optimizer, *args, **kwargs)\u001b[0m\n\u001b[1;32m    455\u001b[0m         ), \"No inf checks were recorded for this optimizer.\"\n\u001b[1;32m    456\u001b[0m \u001b[0;34m\u001b[0m\u001b[0m\n\u001b[0;32m--> 457\u001b[0;31m         \u001b[0mretval\u001b[0m \u001b[0;34m=\u001b[0m \u001b[0mself\u001b[0m\u001b[0;34m.\u001b[0m\u001b[0m_maybe_opt_step\u001b[0m\u001b[0;34m(\u001b[0m\u001b[0moptimizer\u001b[0m\u001b[0;34m,\u001b[0m \u001b[0moptimizer_state\u001b[0m\u001b[0;34m,\u001b[0m \u001b[0;34m*\u001b[0m\u001b[0margs\u001b[0m\u001b[0;34m,\u001b[0m \u001b[0;34m**\u001b[0m\u001b[0mkwargs\u001b[0m\u001b[0;34m)\u001b[0m\u001b[0;34m\u001b[0m\u001b[0;34m\u001b[0m\u001b[0m\n\u001b[0m\u001b[1;32m    458\u001b[0m \u001b[0;34m\u001b[0m\u001b[0m\n\u001b[1;32m    459\u001b[0m         \u001b[0moptimizer_state\u001b[0m\u001b[0;34m[\u001b[0m\u001b[0;34m\"stage\"\u001b[0m\u001b[0;34m]\u001b[0m \u001b[0;34m=\u001b[0m \u001b[0mOptState\u001b[0m\u001b[0;34m.\u001b[0m\u001b[0mSTEPPED\u001b[0m\u001b[0;34m\u001b[0m\u001b[0;34m\u001b[0m\u001b[0m\n",
      "\u001b[0;32m/usr/local/lib/python3.10/dist-packages/torch/amp/grad_scaler.py\u001b[0m in \u001b[0;36m_maybe_opt_step\u001b[0;34m(self, optimizer, optimizer_state, *args, **kwargs)\u001b[0m\n\u001b[1;32m    349\u001b[0m     ) -> Optional[float]:\n\u001b[1;32m    350\u001b[0m         \u001b[0mretval\u001b[0m\u001b[0;34m:\u001b[0m \u001b[0mOptional\u001b[0m\u001b[0;34m[\u001b[0m\u001b[0mfloat\u001b[0m\u001b[0;34m]\u001b[0m \u001b[0;34m=\u001b[0m \u001b[0;32mNone\u001b[0m\u001b[0;34m\u001b[0m\u001b[0;34m\u001b[0m\u001b[0m\n\u001b[0;32m--> 351\u001b[0;31m         \u001b[0;32mif\u001b[0m \u001b[0;32mnot\u001b[0m \u001b[0msum\u001b[0m\u001b[0;34m(\u001b[0m\u001b[0mv\u001b[0m\u001b[0;34m.\u001b[0m\u001b[0mitem\u001b[0m\u001b[0;34m(\u001b[0m\u001b[0;34m)\u001b[0m \u001b[0;32mfor\u001b[0m \u001b[0mv\u001b[0m \u001b[0;32min\u001b[0m \u001b[0moptimizer_state\u001b[0m\u001b[0;34m[\u001b[0m\u001b[0;34m\"found_inf_per_device\"\u001b[0m\u001b[0;34m]\u001b[0m\u001b[0;34m.\u001b[0m\u001b[0mvalues\u001b[0m\u001b[0;34m(\u001b[0m\u001b[0;34m)\u001b[0m\u001b[0;34m)\u001b[0m\u001b[0;34m:\u001b[0m\u001b[0;34m\u001b[0m\u001b[0;34m\u001b[0m\u001b[0m\n\u001b[0m\u001b[1;32m    352\u001b[0m             \u001b[0mretval\u001b[0m \u001b[0;34m=\u001b[0m \u001b[0moptimizer\u001b[0m\u001b[0;34m.\u001b[0m\u001b[0mstep\u001b[0m\u001b[0;34m(\u001b[0m\u001b[0;34m*\u001b[0m\u001b[0margs\u001b[0m\u001b[0;34m,\u001b[0m \u001b[0;34m**\u001b[0m\u001b[0mkwargs\u001b[0m\u001b[0;34m)\u001b[0m\u001b[0;34m\u001b[0m\u001b[0;34m\u001b[0m\u001b[0m\n\u001b[1;32m    353\u001b[0m         \u001b[0;32mreturn\u001b[0m \u001b[0mretval\u001b[0m\u001b[0;34m\u001b[0m\u001b[0;34m\u001b[0m\u001b[0m\n",
      "\u001b[0;32m/usr/local/lib/python3.10/dist-packages/torch/amp/grad_scaler.py\u001b[0m in \u001b[0;36m<genexpr>\u001b[0;34m(.0)\u001b[0m\n\u001b[1;32m    349\u001b[0m     ) -> Optional[float]:\n\u001b[1;32m    350\u001b[0m         \u001b[0mretval\u001b[0m\u001b[0;34m:\u001b[0m \u001b[0mOptional\u001b[0m\u001b[0;34m[\u001b[0m\u001b[0mfloat\u001b[0m\u001b[0;34m]\u001b[0m \u001b[0;34m=\u001b[0m \u001b[0;32mNone\u001b[0m\u001b[0;34m\u001b[0m\u001b[0;34m\u001b[0m\u001b[0m\n\u001b[0;32m--> 351\u001b[0;31m         \u001b[0;32mif\u001b[0m \u001b[0;32mnot\u001b[0m \u001b[0msum\u001b[0m\u001b[0;34m(\u001b[0m\u001b[0mv\u001b[0m\u001b[0;34m.\u001b[0m\u001b[0mitem\u001b[0m\u001b[0;34m(\u001b[0m\u001b[0;34m)\u001b[0m \u001b[0;32mfor\u001b[0m \u001b[0mv\u001b[0m \u001b[0;32min\u001b[0m \u001b[0moptimizer_state\u001b[0m\u001b[0;34m[\u001b[0m\u001b[0;34m\"found_inf_per_device\"\u001b[0m\u001b[0;34m]\u001b[0m\u001b[0;34m.\u001b[0m\u001b[0mvalues\u001b[0m\u001b[0;34m(\u001b[0m\u001b[0;34m)\u001b[0m\u001b[0;34m)\u001b[0m\u001b[0;34m:\u001b[0m\u001b[0;34m\u001b[0m\u001b[0;34m\u001b[0m\u001b[0m\n\u001b[0m\u001b[1;32m    352\u001b[0m             \u001b[0mretval\u001b[0m \u001b[0;34m=\u001b[0m \u001b[0moptimizer\u001b[0m\u001b[0;34m.\u001b[0m\u001b[0mstep\u001b[0m\u001b[0;34m(\u001b[0m\u001b[0;34m*\u001b[0m\u001b[0margs\u001b[0m\u001b[0;34m,\u001b[0m \u001b[0;34m**\u001b[0m\u001b[0mkwargs\u001b[0m\u001b[0;34m)\u001b[0m\u001b[0;34m\u001b[0m\u001b[0;34m\u001b[0m\u001b[0m\n\u001b[1;32m    353\u001b[0m         \u001b[0;32mreturn\u001b[0m \u001b[0mretval\u001b[0m\u001b[0;34m\u001b[0m\u001b[0;34m\u001b[0m\u001b[0m\n",
      "\u001b[0;31mKeyboardInterrupt\u001b[0m: "
     ]
    }
   ],
   "source": [
    "# Iterate over number of epochs to train and evaluate your model\n",
    "torch.cuda.empty_cache()\n",
    "gc.collect()\n",
    "wandb.watch(model, log=\"all\")\n",
    "\n",
    "for epoch in range(start_epoch, config['epochs']):\n",
    "\n",
    "    print(\"\\nEpoch {}/{}\".format(epoch+1, config['epochs']))\n",
    "\n",
    "    curr_lr                 = float(optimizer.param_groups[0]['lr'])\n",
    "    train_loss, train_acc   = train(model, train_loader, optimizer, criterion)\n",
    "    val_loss, val_acc       = eval(model, val_loader)\n",
    "\n",
    "    print(\"\\tTrain Acc {:.04f}%\\tTrain Loss {:.04f}\\t Learning Rate {:.07f}\".format(train_acc*100, train_loss, curr_lr))\n",
    "    print(\"\\tVal Acc {:.04f}%\\tVal Loss {:.04f}\".format(val_acc*100, val_loss))\n",
    "\n",
    "\n",
    "    wandb.log({'train_acc': train_acc*100, 'train_loss': train_loss,\n",
    "               'val_acc': val_acc*100, 'valid_loss': val_loss, 'lr': curr_lr})\n",
    "\n",
    "    # save_checkpoint(model, optimizer, epoch, train_loss, \"checkpoint_epoch_2.pth\")\n",
    "    checkpoint = {\n",
    "        'epoch': epoch + 1,\n",
    "        'model_state_dict': model.state_dict(),\n",
    "        'optimizer_state_dict': optimizer.state_dict(),\n",
    "        'scheduler_state_dict': scheduler.state_dict() if scheduler else None,\n",
    "        'train_loss': train_loss,\n",
    "        'val_loss': val_loss\n",
    "    }\n",
    "\n",
    "    # Save checkpoint locally\n",
    "    checkpoint_filename = f'checkpoint_epoch_{epoch + 1}.pth'\n",
    "    torch.save(checkpoint, checkpoint_filename)\n",
    "\n",
    "    # Save the checkpoint to wandb\n",
    "    wandb.save(checkpoint_filename)\n",
    "    # scheduler.step(val_loss)\n",
    "    # schedular.step()\n",
    "\n"
   ]
  },
  {
   "cell_type": "code",
   "execution_count": 33,
   "metadata": {
    "execution": {
     "iopub.execute_input": "2025-02-06T03:47:22.489713Z",
     "iopub.status.busy": "2025-02-06T03:47:22.489339Z",
     "iopub.status.idle": "2025-02-06T03:47:22.494628Z",
     "shell.execute_reply": "2025-02-06T03:47:22.493925Z",
     "shell.execute_reply.started": "2025-02-06T03:47:22.489682Z"
    },
    "trusted": true
   },
   "outputs": [],
   "source": [
    "optimizer = Lion(\n",
    "    model.parameters(),\n",
    "    # lr=3e-4,\n",
    "    lr = 0.0000001,\n",
    "    weight_decay=1e-2,  \n",
    "    use_triton=False  \n",
    ")"
   ]
  },
  {
   "cell_type": "code",
   "execution_count": null,
   "metadata": {
    "trusted": true
   },
   "outputs": [],
   "source": [
    "total_steps = config['epochs'] * len(train_loader)  \n",
    "\n",
    "scheduler = OneCycleLR(\n",
    "    optimizer,\n",
    "    max_lr=1e-3,  \n",
    "    total_steps=total_steps,\n",
    "    pct_start=0.3,  \n",
    "    anneal_strategy='cos',  \n",
    "    final_div_factor=100  \n",
    ")"
   ]
  },
  {
   "cell_type": "code",
   "execution_count": 22,
   "metadata": {
    "execution": {
     "iopub.execute_input": "2025-02-06T02:13:26.471293Z",
     "iopub.status.busy": "2025-02-06T02:13:26.470965Z",
     "iopub.status.idle": "2025-02-06T02:13:26.476770Z",
     "shell.execute_reply": "2025-02-06T02:13:26.475960Z",
     "shell.execute_reply.started": "2025-02-06T02:13:26.471267Z"
    },
    "trusted": true
   },
   "outputs": [],
   "source": [
    "config = {\n",
    "    'Name': 'Gopal', # Write your name here\n",
    "    'subset': 1.0, # Subset of dataset to use (1.0 == 100% of data)\n",
    "    'context': 30,\n",
    "    'archetype': 'diamond', # Default Values: pyramid, diamond, inverse-pyramid,cylinder\n",
    "    'activations': 'GELU',\n",
    "    'learning_rate': 0.001,\n",
    "    'dropout': 0.25,\n",
    "    # 'dropout': 0.05,\n",
    "    'optimizers': 'SGD',\n",
    "    'scheduler': 'ReduceLROnPlateau',\n",
    "    'epochs': 50,\n",
    "    'batch_size': 2048,\n",
    "    'weight_decay': 0.03,\n",
    "    # 'weight_initialization': None, # e.g kaiming_normal, kaiming_uniform, uniform, xavier_normal or xavier_uniform\n",
    "    'weight_initialization' : \"kaiming_normal\",\n",
    "    'augmentations': 'Both', # Options: [\"FreqMask\", \"TimeMask\", \"Both\", null]\n",
    "    'freq_mask_param': 4,\n",
    "    'time_mask_param': 8\n",
    " }"
   ]
  },
  {
   "cell_type": "code",
   "execution_count": 18,
   "metadata": {
    "execution": {
     "iopub.execute_input": "2025-02-03T03:17:56.826595Z",
     "iopub.status.busy": "2025-02-03T03:17:56.826300Z",
     "iopub.status.idle": "2025-02-03T03:17:56.831414Z",
     "shell.execute_reply": "2025-02-03T03:17:56.830543Z",
     "shell.execute_reply.started": "2025-02-03T03:17:56.826557Z"
    },
    "trusted": true
   },
   "outputs": [],
   "source": []
  },
  {
   "cell_type": "code",
   "execution_count": 36,
   "metadata": {
    "execution": {
     "iopub.execute_input": "2025-02-06T05:08:15.557036Z",
     "iopub.status.busy": "2025-02-06T05:08:15.556738Z",
     "iopub.status.idle": "2025-02-06T05:08:15.562670Z",
     "shell.execute_reply": "2025-02-06T05:08:15.561875Z",
     "shell.execute_reply.started": "2025-02-06T05:08:15.557012Z"
    },
    "trusted": true
   },
   "outputs": [],
   "source": [
    "def test(model, test_loader):\n",
    "    ### What you call for model to perform inference?\n",
    "    model.eval() # TODO train or eval?\n",
    "\n",
    "    ### List to store predicted phonemes of test data\n",
    "    test_predictions = []\n",
    "\n",
    "    ### Which mode do you need to avoid gradients?\n",
    "    with torch.inference_mode(): # TODO\n",
    "\n",
    "        for i, mfccs in enumerate(tqdm(test_loader)):\n",
    "\n",
    "            mfccs   = mfccs.to(device)\n",
    "\n",
    "            logits  = model(mfccs)\n",
    "\n",
    "            ### Get most likely predicted phoneme with argmax\n",
    "            predicted_phonemes = torch.argmax(logits, dim= 1)\n",
    "\n",
    "            ### How do you store predicted_phonemes with test_predictions? Hint, look at eval\n",
    "            # Remember the phonemes were converted to their corresponding integer indices earlier, and the results of the argmax is a list of the indices of the predicted phonemes.\n",
    "            # So how do you get and store the actual predicted phonemes\n",
    "            # TODO: Store predicted_phonemes\n",
    "            # test_predictions.append(PHONEMES[predicted_phonemes])\n",
    "            test_predictions.extend([PHONEMES[idx] for idx in predicted_phonemes.cpu().tolist()])\n",
    "\n",
    "    return test_predictions"
   ]
  },
  {
   "cell_type": "code",
   "execution_count": 37,
   "metadata": {
    "execution": {
     "iopub.execute_input": "2025-02-06T05:08:15.867277Z",
     "iopub.status.busy": "2025-02-06T05:08:15.866978Z",
     "iopub.status.idle": "2025-02-06T05:08:35.318535Z",
     "shell.execute_reply": "2025-02-06T05:08:35.317408Z",
     "shell.execute_reply.started": "2025-02-06T05:08:15.867252Z"
    },
    "trusted": true
   },
   "outputs": [
    {
     "data": {
      "application/vnd.jupyter.widget-view+json": {
       "model_id": "ea29edd53a8f4212a38d283ce12e8fc9",
       "version_major": 2,
       "version_minor": 0
      },
      "text/plain": [
       "  0%|          | 0/945 [00:00<?, ?it/s]"
      ]
     },
     "metadata": {},
     "output_type": "display_data"
    },
    {
     "name": "stderr",
     "output_type": "stream",
     "text": [
      "Exception ignored in: <function _MultiProcessingDataLoaderIter.__del__ at 0x7d72890e9e10>\n",
      "Traceback (most recent call last):\n",
      "  File \"/usr/local/lib/python3.10/dist-packages/torch/utils/data/dataloader.py\", line 1604, in __del__\n",
      "    self._shutdown_workers()\n",
      "  File \"/usr/local/lib/python3.10/dist-packages/torch/utils/data/dataloader.py\", line 1587, in _shutdown_workers\n",
      "    if w.is_alive():\n",
      "  File \"/usr/lib/python3.10/multiprocessing/process.py\", line 160, in is_alive\n",
      "    assert self._parent_pid == os.getpid(), 'can only test a child process'\n",
      "AssertionError: can only test a child process\n"
     ]
    }
   ],
   "source": [
    "predictions = test(model, test_loader)"
   ]
  },
  {
   "cell_type": "code",
   "execution_count": 38,
   "metadata": {
    "execution": {
     "iopub.execute_input": "2025-02-06T05:08:36.971280Z",
     "iopub.status.busy": "2025-02-06T05:08:36.970922Z",
     "iopub.status.idle": "2025-02-06T05:08:38.307430Z",
     "shell.execute_reply": "2025-02-06T05:08:38.306531Z",
     "shell.execute_reply.started": "2025-02-06T05:08:36.971243Z"
    },
    "trusted": true
   },
   "outputs": [],
   "source": [
    "### Create CSV file with predictions\n",
    "with open(\"./submission11.csv\", \"w+\") as f:\n",
    "    f.write(\"id,label\\n\")\n",
    "    for i in range(len(predictions)):\n",
    "        f.write(\"{},{}\\n\".format(i, predictions[i]))"
   ]
  },
  {
   "cell_type": "code",
   "execution_count": null,
   "metadata": {
    "trusted": true
   },
   "outputs": [],
   "source": [
    "run.finish()"
   ]
  },
  {
   "cell_type": "code",
   "execution_count": null,
   "metadata": {
    "trusted": true
   },
   "outputs": [],
   "source": [
    "### Submit to kaggle competition using kaggle API (Uncomment below to use)\n",
    "!kaggle competitions submit -c 11785-spring-25-hw-1-p-2 -f /content/submission.csv -m \"Test Submission\"\n",
    "\n",
    "### However, its always safer to download the csv file and then upload to kaggle"
   ]
  }
 ],
 "metadata": {
  "kaggle": {
   "accelerator": "gpu",
   "dataSources": [],
   "dockerImageVersionId": 30840,
   "isGpuEnabled": true,
   "isInternetEnabled": true,
   "language": "python",
   "sourceType": "notebook"
  },
  "kernelspec": {
   "display_name": "Python 3",
   "language": "python",
   "name": "python3"
  },
  "language_info": {
   "codemirror_mode": {
    "name": "ipython",
    "version": 3
   },
   "file_extension": ".py",
   "mimetype": "text/x-python",
   "name": "python",
   "nbconvert_exporter": "python",
   "pygments_lexer": "ipython3",
   "version": "3.10.12"
  }
 },
 "nbformat": 4,
 "nbformat_minor": 4
}
